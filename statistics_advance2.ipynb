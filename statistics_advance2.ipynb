{
  "nbformat": 4,
  "nbformat_minor": 0,
  "metadata": {
    "colab": {
      "provenance": []
    },
    "kernelspec": {
      "name": "python3",
      "display_name": "Python 3"
    },
    "language_info": {
      "name": "python"
    }
  },
  "cells": [
    {
      "cell_type": "code",
      "execution_count": 1,
      "metadata": {
        "id": "t3iyzvOfqm8I"
      },
      "outputs": [],
      "source": [
        "# Question1: Define the z-statistic and explain its relationship to the standard normal distribution. How is the\n",
        "# z-statistic used in hypothesis testing?"
      ]
    },
    {
      "cell_type": "code",
      "source": [
        "#Ans: z-statistic: it  is a measure that describes how far a sample mean is from the population mean measure in terms of standard devaitions.\n",
        "# It is calculated by substracting the population mean from the sample mean and dividing by the standard deviation of the sample.\n",
        "# Standard Normal Distribution: it has a mean of 0 and standard deviation of 1.\n",
        "# In hypothesis testing: the z-statistic is used to determine the likelihood of observing  the sample data under the null hypothesis,\n",
        "# if the z-statistic falls beyond a critical value, we reject the null hypothesis."
      ],
      "metadata": {
        "id": "clUXdqZsrOYY"
      },
      "execution_count": null,
      "outputs": []
    },
    {
      "cell_type": "code",
      "source": [
        "# Question2 : What is a p-value, and how is it used in hypothesis testing? What does it mean if the p-value is\n",
        "# very small (e.g., 0.01)?"
      ],
      "metadata": {
        "id": "FAxMD9Jnr4Ju"
      },
      "execution_count": null,
      "outputs": []
    },
    {
      "cell_type": "code",
      "source": [
        "#Ans: A p value is the probability of obaining a test result at least as extreme as the observed data,assuming the null hypothesis is true.\n",
        "# In hypothesis  testing, s small p-value( e.g, 0.01) indicates strong evidence against the null hypothesis,suggesting that the observed result is\n",
        "# unlikely due to chance leading to a rejection of the null hypothesis."
      ],
      "metadata": {
        "id": "tGFfcdhDr4N2"
      },
      "execution_count": null,
      "outputs": []
    },
    {
      "cell_type": "code",
      "source": [
        "# Question3: Compare and contrast the binomial and Bernoulli distributions."
      ],
      "metadata": {
        "id": "uj75bxsFr4Uq"
      },
      "execution_count": 3,
      "outputs": []
    },
    {
      "cell_type": "code",
      "source": [
        "#Ans: Bernoulli Distribution: it represets a sigle trial with two outcomes: success 1 or failure 0.\n",
        "# Binomial Distribution: it is an extension of the bernoulli distribution represnting the number of successes in a fixes number\n",
        "# while the binomial is for multiple trials."
      ],
      "metadata": {
        "id": "FC-eC08hr4YZ"
      },
      "execution_count": null,
      "outputs": []
    },
    {
      "cell_type": "code",
      "source": [
        "# Question 4: Under what conditions is the binomial distribution used, and how does it relate to the Bernoulli\n",
        "# distribution?"
      ],
      "metadata": {
        "id": "xrkrTi49wuV1"
      },
      "execution_count": null,
      "outputs": []
    },
    {
      "cell_type": "code",
      "source": [
        "# Ans:The binomial distribution is used when there are a fixed number of independent trials,each with two possible outcomes(success or failure)\n",
        "# and a constant probability of success.\n",
        "#It relates to the Bernoulli distribution because the binomial distribution is the sum of multiple Bernoulli trails."
      ],
      "metadata": {
        "id": "vP1kkU-jwuab"
      },
      "execution_count": 4,
      "outputs": []
    },
    {
      "cell_type": "code",
      "source": [
        "#Question5: What are the key properties of the Poisson distribution, and when is it appropriate to use this distribution?"
      ],
      "metadata": {
        "id": "TJEx_v6Kzzvm"
      },
      "execution_count": null,
      "outputs": []
    },
    {
      "cell_type": "code",
      "source": [
        "# Ans: The Poisson distribution models the number of events occuring within a fixed interval of time or space,assuming events happen independently\n",
        "# and at a constant average rate.\n",
        "#It is appropriate to use when you are counting rare events, like the number of emails received per hour or accidents at a traffic intersection per day.\n"
      ],
      "metadata": {
        "id": "CQQ6AKINzzsc"
      },
      "execution_count": null,
      "outputs": []
    },
    {
      "cell_type": "code",
      "source": [
        "# Question6: Define the terms \"probability distribution\" and \"probability density function\" (PDF). How does a\n",
        "# PDF differ from a probability mass function (PMF)?"
      ],
      "metadata": {
        "id": "FLzwxCYFzzom"
      },
      "execution_count": 5,
      "outputs": []
    },
    {
      "cell_type": "code",
      "source": [
        "#Ans: A probabality distribution describes how the probabilities of different outcomes are distributed.\n",
        "# A probability desnsity function(PDF) represents the likelihood of a continuous random variable, where the area\n",
        "# under the curve gives the probability. A PMF applies to discrete variables, assigning probabilities to exact values,\n",
        "# while the PDF is used for continuous ones.\n"
      ],
      "metadata": {
        "id": "2VhBRPT3zzk-"
      },
      "execution_count": null,
      "outputs": []
    },
    {
      "cell_type": "code",
      "source": [
        "# Question7: Explain the Central Limit Theorem (CLT) with example."
      ],
      "metadata": {
        "id": "D29manNczzf-"
      },
      "execution_count": null,
      "outputs": []
    },
    {
      "cell_type": "code",
      "source": [
        "#Ans:The Central Limit Theorem(CLT) states that the sampling distribution of the sample mean approaches a normal\n",
        "# distribution as the sample size increases, regardless of the population's distribution.\n",
        "# For example, if we repeatedly sample the average height of 30 people the distribution of those averages will become normal as we\n",
        "# increases the number of samples, even if the population's height distribution is not normal."
      ],
      "metadata": {
        "id": "qWnVzcUK8bbo"
      },
      "execution_count": null,
      "outputs": []
    },
    {
      "cell_type": "code",
      "source": [
        "# Question8: Compare z-scores and t-scores. When should you use a z-score, and when should a t-score be applied instead?"
      ],
      "metadata": {
        "id": "pnxTyHvf8bfP"
      },
      "execution_count": 6,
      "outputs": []
    },
    {
      "cell_type": "code",
      "source": [
        "# ans: z-scores are used when the population standard deviation is known and the sample size is large(n>30).\n",
        "# They measure how many standard deviation a data point is from the mean in a normal distribution.\n",
        "\n",
        "# T-scores are used when the population standard deviation is unknown and the sample size is small(n<=30).\n",
        "# They account for more variablility in smaller samples."
      ],
      "metadata": {
        "id": "f77D9EFa8bi3"
      },
      "execution_count": 7,
      "outputs": []
    },
    {
      "cell_type": "code",
      "source": [
        "# Question9: Given a sample mean of 105, a population mean of 100, a standard deviation of 15, and a sample\n",
        "# size of 25, calculate the z-score and p-value. Based on a significance level of 0.05, do you reject or fail to\n",
        "# reject the null hypothesis?\n",
        "#  Task: Write Python code to calculate the z-score and p-value for the given data.\n",
        "# Objective: Apply the formula for the z-score and interpret the p-value for hypothesis testing."
      ],
      "metadata": {
        "id": "VdHLdNso8bl4"
      },
      "execution_count": null,
      "outputs": []
    },
    {
      "cell_type": "code",
      "source": [
        "import scipy.stats as stats\n",
        "import numpy as np\n",
        "\n",
        "#Given data\n",
        "sample_mean=105\n",
        "population_mean=105\n",
        "std_dev=15\n",
        "sample_size=25\n",
        "significance_level=0.05\n",
        "\n",
        "#Calculate the z-score\n",
        "z_score=(sample_mean-population_mean)/(std_dev/np.sqrt(sample_size))\n",
        "\n",
        "# calculate the p-value (two-tailed test)\n",
        "p_value=2*(1-stats.norm.cdf(abs(z_score)))\n",
        "\n",
        "#Output the results\n",
        "print(f'Z-score:{z_score:.2f}')\n",
        "print(f'p-value:{p_value:.4f}')\n",
        "\n",
        "#Decision based on the significance level\n",
        "if p_value< significance_level:\n",
        "  print('Reject the null hypothesis')\n",
        "\n",
        "else:\n",
        "  print('Fail to reject the null hypothesis')"
      ],
      "metadata": {
        "colab": {
          "base_uri": "https://localhost:8080/"
        },
        "id": "4uw6PTlH8boz",
        "outputId": "62c4574e-ef46-4463-8ca0-cefd2a123137"
      },
      "execution_count": 8,
      "outputs": [
        {
          "output_type": "stream",
          "name": "stdout",
          "text": [
            "Z-score:0.00\n",
            "p-value:1.0000\n",
            "Fail to reject the null hypothesis\n"
          ]
        }
      ]
    },
    {
      "cell_type": "code",
      "source": [
        "# Question10: Simulate a binomial distribution with 10 trials and a probability of success of 0.6 using Python.\n",
        "# Generate 1,000 samples and plot the distribution. What is the expected mean and variance?\n",
        "# Task: Use Python to generate the data, plot the distribution, and calculate the mean and variance.\n",
        "# Objective: Understand the properties of a binomial distribution and verify them through simulation"
      ],
      "metadata": {
        "id": "AUv1waqizzcT"
      },
      "execution_count": null,
      "outputs": []
    },
    {
      "cell_type": "code",
      "source": [
        "# Ans:\n",
        "import numpy as np\n",
        "import matplotlib.pyplot as plt\n",
        "\n",
        "n,p,samples=10,0.6,1000\n",
        "\n",
        "# simulate binomial distribution\n",
        "samples=np.random.binomial(n,p,samples)\n",
        "\n",
        "# plot histogram\n",
        "plt.hist(samples,bins=np.arange(-0.5,n+1.5,1),density=True, color='blue',alpha=0.7)\n",
        "plt.axvline(n*p,color='red',linestyle='dashed',label='Expected Mean')\n",
        "plt.title('Binomial Distribution (n=10,p=0.6)')\n",
        "plt.xlabel('Number of Successes')\n",
        "plt.ylabel('Density')\n",
        "plt.legend()\n",
        "plt.show()\n",
        "\n",
        "# Output mean and Variance\n",
        "expected_mean=n*p\n",
        "expected_variance=n*p*(1-p)\n",
        "print(f'Expected Mean:{expected_mean:.2f}')\n",
        "print(f\"Expected Variance:{expected_variance:.2f}\")"
      ],
      "metadata": {
        "colab": {
          "base_uri": "https://localhost:8080/",
          "height": 507
        },
        "id": "fALkap1LzzY4",
        "outputId": "0338393a-3c9b-415e-a970-bf547f9dab30"
      },
      "execution_count": 11,
      "outputs": [
        {
          "output_type": "display_data",
          "data": {
            "text/plain": [
              "<Figure size 640x480 with 1 Axes>"
            ],
            "image/png": "[encoded data removed]"
          },
          "metadata": {}
        },
        {
          "output_type": "stream",
          "name": "stdout",
          "text": [
            "Expected Mean:6.00\n",
            "Expected Variance:2.40\n"
          ]
        }
      ]
    },
    {
      "cell_type": "code",
      "source": [],
      "metadata": {
        "id": "eA83tNojysCf"
      },
      "execution_count": null,
      "outputs": []
    },
    {
      "cell_type": "code",
      "source": [],
      "metadata": {
        "id": "jFJ41FzVysG9"
      },
      "execution_count": null,
      "outputs": []
    }
  ]
}